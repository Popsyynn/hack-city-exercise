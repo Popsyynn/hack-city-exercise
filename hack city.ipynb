{
 "cells": [
  {
   "cell_type": "code",
   "execution_count": 2,
   "id": "edb9d224",
   "metadata": {},
   "outputs": [
    {
     "name": "stdout",
     "output_type": "stream",
     "text": [
      "Enter an integer14\n",
      "7.0\n",
      "6.0\n",
      "3.0\n",
      "2.0\n",
      "1.0\n",
      "0.0\n"
     ]
    }
   ],
   "source": [
    "#1\n",
    "num = int(input('Enter an integer'))\n",
    "\n",
    "while num>0:\n",
    "    if num%2==0:\n",
    "        num = num/2\n",
    "        \n",
    "    else:\n",
    "        num = num -1\n",
    "        \n",
    "    print(num)"
   ]
  },
  {
   "cell_type": "code",
   "execution_count": 8,
   "id": "883d9659",
   "metadata": {},
   "outputs": [
    {
     "name": "stdout",
     "output_type": "stream",
     "text": [
      "[3]\n",
      "[3, 4]\n",
      "[3, 4, 6]\n",
      "[3, 4, 6, 16]\n",
      "[3, 4, 6, 16, 17]\n"
     ]
    }
   ],
   "source": [
    "#2 running sum question\n",
    "        \n",
    "nums = [3,1,2,10,1]\n",
    "    \n",
    "if len(nums) == 1:\n",
    "    print(nums)\n",
    "        \n",
    "result = []\n",
    "for i in range(len(nums)):\n",
    "    result.append(sum(nums[:i+1]))\n",
    "    print(result)"
   ]
  },
  {
   "cell_type": "code",
   "execution_count": 22,
   "id": "054000e4",
   "metadata": {},
   "outputs": [
    {
     "name": "stdout",
     "output_type": "stream",
     "text": [
      "Enter an integer:15\n",
      "['Frizzbuzz']\n"
     ]
    }
   ],
   "source": [
    "n = int(input('Enter an integer:'))\n",
    "\n",
    "empty_list = []\n",
    "if (n%3==0 and n%5)==0:\n",
    "    empty_list.append('Frizzbuzz')\n",
    "    \n",
    "elif n%3==0:\n",
    "    empty_list.append('frizz')\n",
    "    \n",
    "elif n%5==0:\n",
    "    empty_list.append('buzz')\n",
    "else:\n",
    "    empty_list.append('i')\n",
    "    \n",
    "print(empty_list)"
   ]
  },
  {
   "cell_type": "code",
   "execution_count": null,
   "id": "a61a81c8",
   "metadata": {},
   "outputs": [],
   "source": []
  }
 ],
 "metadata": {
  "kernelspec": {
   "display_name": "Python 3",
   "language": "python",
   "name": "python3"
  },
  "language_info": {
   "codemirror_mode": {
    "name": "ipython",
    "version": 3
   },
   "file_extension": ".py",
   "mimetype": "text/x-python",
   "name": "python",
   "nbconvert_exporter": "python",
   "pygments_lexer": "ipython3",
   "version": "3.8.8"
  }
 },
 "nbformat": 4,
 "nbformat_minor": 5
}
